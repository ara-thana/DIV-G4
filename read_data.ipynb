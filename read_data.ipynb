{
 "cells": [
  {
   "cell_type": "code",
   "execution_count": 53,
   "metadata": {},
   "outputs": [
    {
     "name": "stdout",
     "output_type": "stream",
     "text": [
      "3725\n",
      "Index(['Title', 'Release Date', 'Color/B&W', 'Genre', 'Language', 'Country',\n",
      "       'Rating', 'Lead Actor', 'Director Name', 'Lead Actor FB Likes',\n",
      "       'Cast FB Likes', 'Director FB Likes', 'Movie FB Likes',\n",
      "       'IMDb Score (1-10)', 'Total Reviews', 'Duration (min)', 'Gross Revenue',\n",
      "       'Budget'],\n",
      "      dtype='object')\n"
     ]
    }
   ],
   "source": [
    "import pandas as pd\n",
    "\n",
    "file_path = 'data/xlsx_data/movies_excel.xlsx'\n",
    "excel_df = pd.read_excel(file_path, sheet_name='Sheet1')  # Specify the sheet name or index\n",
    "\n",
    "print(len(excel_df))\n",
    "print(excel_df.columns)\n"
   ]
  },
  {
   "cell_type": "code",
   "execution_count": 54,
   "metadata": {},
   "outputs": [
    {
     "name": "stdout",
     "output_type": "stream",
     "text": [
      "3665\n",
      "Index(['Title', 'year', 'cast', 'genres', 'href', 'extract', 'thumbnail',\n",
      "       'thumbnail_width', 'thumbnail_height'],\n",
      "      dtype='object')\n"
     ]
    }
   ],
   "source": [
    "import json\n",
    "\n",
    "with open('data/json_data/movies-2010s.json', 'r') as file:\n",
    "    data1 = json.load(file)\n",
    "json_df1 = pd.json_normalize(data1)\n",
    "\n",
    "with open('data/json_data/movies-2020s.json', 'r') as file:\n",
    "    data2 = json.load(file)\n",
    "json_df2 = pd.json_normalize(data2)\n",
    "\n",
    "json_df = pd.concat([json_df1, json_df2])\n",
    "\n",
    "print(len(json_df))\n",
    "json_df.rename(columns={'title': 'Title'}, inplace=True)\n",
    "print(json_df.columns)"
   ]
  },
  {
   "cell_type": "code",
   "execution_count": 55,
   "metadata": {},
   "outputs": [
    {
     "name": "stdout",
     "output_type": "stream",
     "text": [
      "1000\n",
      "Index(['Poster_Link', 'Title', 'Released_Year', 'Certificate', 'Runtime',\n",
      "       'Genre', 'IMDB_Rating', 'Overview', 'Meta_score', 'Director', 'Star1',\n",
      "       'Star2', 'Star3', 'Star4', 'No_of_Votes', 'Gross'],\n",
      "      dtype='object')\n"
     ]
    }
   ],
   "source": [
    "csv_df = pd.read_csv(\"data/csv_data/imdb_top_1000.csv\")\n",
    "print(len(csv_df))\n",
    "csv_df.rename(columns={'Series_Title': 'Title'}, inplace=True)\n",
    "print(csv_df.columns)"
   ]
  },
  {
   "cell_type": "code",
   "execution_count": 56,
   "metadata": {},
   "outputs": [
    {
     "name": "stdout",
     "output_type": "stream",
     "text": [
      "Index(['Title', 'Release Date', 'Color/B&W', 'Genre_x', 'Language', 'Country',\n",
      "       'Rating', 'Lead Actor', 'Director Name', 'Lead Actor FB Likes',\n",
      "       'Cast FB Likes', 'Director FB Likes', 'Movie FB Likes',\n",
      "       'IMDb Score (1-10)', 'Total Reviews', 'Duration (min)', 'Gross Revenue',\n",
      "       'Budget', 'year', 'cast', 'genres', 'href', 'extract', 'thumbnail',\n",
      "       'thumbnail_width', 'thumbnail_height', 'Poster_Link', 'Released_Year',\n",
      "       'Certificate', 'Runtime', 'Genre_y', 'IMDB_Rating', 'Overview',\n",
      "       'Meta_score', 'Director', 'Star1', 'Star2', 'Star3', 'Star4',\n",
      "       'No_of_Votes', 'Gross'],\n",
      "      dtype='object')\n",
      "7070\n"
     ]
    }
   ],
   "source": [
    "merged_df = pd.merge(excel_df, json_df, on='Title', how='outer')\n",
    "merged_df = pd.merge(merged_df, csv_df, on='Title', how='outer')\n",
    "print(merged_df.columns)\n",
    "print(len(merged_df))"
   ]
  }
 ],
 "metadata": {
  "kernelspec": {
   "display_name": "base",
   "language": "python",
   "name": "python3"
  },
  "language_info": {
   "codemirror_mode": {
    "name": "ipython",
    "version": 3
   },
   "file_extension": ".py",
   "mimetype": "text/x-python",
   "name": "python",
   "nbconvert_exporter": "python",
   "pygments_lexer": "ipython3",
   "version": "3.10.8"
  },
  "orig_nbformat": 4
 },
 "nbformat": 4,
 "nbformat_minor": 2
}
