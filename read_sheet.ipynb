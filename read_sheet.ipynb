{
 "cells": [
  {
   "cell_type": "code",
   "execution_count": 1,
   "metadata": {},
   "outputs": [
    {
     "name": "stdout",
     "output_type": "stream",
     "text": [
      "                            Title Release Date        Color/B&W    Genre  \\\n",
      "0  Over the Hill to the Poorhouse   1920-09-15  Black and White    Crime   \n",
      "1                      Metropolis   1927-01-26  Black and White    Drama   \n",
      "2             The Broadway Melody   1929-11-11  Black and White  Musical   \n",
      "3                     42nd Street   1933-08-29  Black and White   Comedy   \n",
      "4                         Top Hat   1935-04-15  Black and White   Comedy   \n",
      "\n",
      "  Language  Country     Rating     Lead Actor      Director Name  \\\n",
      "0  English      USA  Not Rated   Stephen Carr  Harry F. Millarde   \n",
      "1   German  Germany  Not Rated  Brigitte Helm         Fritz Lang   \n",
      "2  English      USA     Passed     Anita Page     Harry Beaumont   \n",
      "3  English      USA    Unrated  Ginger Rogers        Lloyd Bacon   \n",
      "4  English      USA   Approved  Ginger Rogers      Mark Sandrich   \n",
      "\n",
      "   Lead Actor FB Likes  Cast FB Likes  Director FB Likes  Movie FB Likes  \\\n",
      "0                  2.0              4                  0               0   \n",
      "1                136.0            203                756           12000   \n",
      "2                 77.0            109                  4             167   \n",
      "3                610.0            995                 24             439   \n",
      "4                610.0            824                 10            1000   \n",
      "\n",
      "   IMDb Score (1-10)  Total Reviews  Duration (min)  Gross Revenue   Budget  \n",
      "0                4.8            1.0           110.0        3000000   100000  \n",
      "1                8.3          260.0           145.0          26435  6000000  \n",
      "2                6.3           36.0           100.0        2808000   379000  \n",
      "3                7.7           65.0            89.0        2300000   439000  \n",
      "4                7.8           66.0            81.0        3000000   609000  \n"
     ]
    }
   ],
   "source": [
    "import pandas as pd\n",
    "\n",
    "# Specify the path to the Excel file\n",
    "file_path = 'data/xlsx_data/movies_excel.xlsx'\n",
    "\n",
    "# Load the data into a DataFrame\n",
    "df = pd.read_excel(file_path, sheet_name='Sheet1')  # Specify the sheet name or index\n",
    "\n",
    "# Display the first few rows of the DataFrame\n",
    "print(df.head())"
   ]
  }
 ],
 "metadata": {
  "kernelspec": {
   "display_name": "base",
   "language": "python",
   "name": "python3"
  },
  "language_info": {
   "codemirror_mode": {
    "name": "ipython",
    "version": 3
   },
   "file_extension": ".py",
   "mimetype": "text/x-python",
   "name": "python",
   "nbconvert_exporter": "python",
   "pygments_lexer": "ipython3",
   "version": "3.10.8"
  },
  "orig_nbformat": 4
 },
 "nbformat": 4,
 "nbformat_minor": 2
}
