{
 "cells": [
  {
   "attachments": {},
   "cell_type": "markdown",
   "metadata": {},
   "source": [
    "## Read and Merge data \n",
    "<img src=\"../data/image/read_data.png\" alt=\"My Local Image\" width=\"750\">"
   ]
  },
  {
   "attachments": {},
   "cell_type": "markdown",
   "metadata": {},
   "source": [
    "#### STEPS in this notebook\n",
    "1. import open data in the form of excel and csv and merge them\n",
    "2. use the titles from merged data, randomly sample 200 and retrieve information using API call in the form of json\n",
    "3. import json data and merge with intially merged data\n",
    "4. export to excel file"
   ]
  },
  {
   "attachments": {},
   "cell_type": "markdown",
   "metadata": {},
   "source": [
    "First, we import the excel data as a dataframe, it has 3725 datapoints. For consistency, we take the year out of Release Date and put it with the Title to be the id of each row."
   ]
  },
  {
   "cell_type": "code",
   "execution_count": 1,
   "metadata": {},
   "outputs": [
    {
     "name": "stdout",
     "output_type": "stream",
     "text": [
      "3725\n"
     ]
    },
    {
     "data": {
      "text/html": [
       "<div>\n",
       "<style scoped>\n",
       "    .dataframe tbody tr th:only-of-type {\n",
       "        vertical-align: middle;\n",
       "    }\n",
       "\n",
       "    .dataframe tbody tr th {\n",
       "        vertical-align: top;\n",
       "    }\n",
       "\n",
       "    .dataframe thead th {\n",
       "        text-align: right;\n",
       "    }\n",
       "</style>\n",
       "<table border=\"1\" class=\"dataframe\">\n",
       "  <thead>\n",
       "    <tr style=\"text-align: right;\">\n",
       "      <th></th>\n",
       "      <th>Title</th>\n",
       "      <th>Release Date</th>\n",
       "      <th>Color/B&amp;W</th>\n",
       "      <th>Genre</th>\n",
       "      <th>Language</th>\n",
       "      <th>Country</th>\n",
       "      <th>Rating</th>\n",
       "      <th>Lead Actor</th>\n",
       "      <th>Director Name</th>\n",
       "      <th>Lead Actor FB Likes</th>\n",
       "      <th>Cast FB Likes</th>\n",
       "      <th>Director FB Likes</th>\n",
       "      <th>Movie FB Likes</th>\n",
       "      <th>IMDb Score (1-10)</th>\n",
       "      <th>Total Reviews</th>\n",
       "      <th>Duration (min)</th>\n",
       "      <th>Gross Revenue</th>\n",
       "      <th>Budget</th>\n",
       "      <th>year</th>\n",
       "      <th>Title_year</th>\n",
       "    </tr>\n",
       "  </thead>\n",
       "  <tbody>\n",
       "    <tr>\n",
       "      <th>0</th>\n",
       "      <td>Over the Hill to the Poorhouse</td>\n",
       "      <td>1920-09-15</td>\n",
       "      <td>Black and White</td>\n",
       "      <td>Crime</td>\n",
       "      <td>English</td>\n",
       "      <td>USA</td>\n",
       "      <td>Not Rated</td>\n",
       "      <td>Stephen Carr</td>\n",
       "      <td>Harry F. Millarde</td>\n",
       "      <td>2.0</td>\n",
       "      <td>4</td>\n",
       "      <td>0</td>\n",
       "      <td>0</td>\n",
       "      <td>4.8</td>\n",
       "      <td>1.0</td>\n",
       "      <td>110.0</td>\n",
       "      <td>3000000</td>\n",
       "      <td>100000</td>\n",
       "      <td>1920</td>\n",
       "      <td>Over the Hill to the Poorhouse (1920)</td>\n",
       "    </tr>\n",
       "    <tr>\n",
       "      <th>1</th>\n",
       "      <td>Metropolis</td>\n",
       "      <td>1927-01-26</td>\n",
       "      <td>Black and White</td>\n",
       "      <td>Drama</td>\n",
       "      <td>German</td>\n",
       "      <td>Germany</td>\n",
       "      <td>Not Rated</td>\n",
       "      <td>Brigitte Helm</td>\n",
       "      <td>Fritz Lang</td>\n",
       "      <td>136.0</td>\n",
       "      <td>203</td>\n",
       "      <td>756</td>\n",
       "      <td>12000</td>\n",
       "      <td>8.3</td>\n",
       "      <td>260.0</td>\n",
       "      <td>145.0</td>\n",
       "      <td>26435</td>\n",
       "      <td>6000000</td>\n",
       "      <td>1927</td>\n",
       "      <td>Metropolis (1927)</td>\n",
       "    </tr>\n",
       "    <tr>\n",
       "      <th>2</th>\n",
       "      <td>The Broadway Melody</td>\n",
       "      <td>1929-11-11</td>\n",
       "      <td>Black and White</td>\n",
       "      <td>Musical</td>\n",
       "      <td>English</td>\n",
       "      <td>USA</td>\n",
       "      <td>Passed</td>\n",
       "      <td>Anita Page</td>\n",
       "      <td>Harry Beaumont</td>\n",
       "      <td>77.0</td>\n",
       "      <td>109</td>\n",
       "      <td>4</td>\n",
       "      <td>167</td>\n",
       "      <td>6.3</td>\n",
       "      <td>36.0</td>\n",
       "      <td>100.0</td>\n",
       "      <td>2808000</td>\n",
       "      <td>379000</td>\n",
       "      <td>1929</td>\n",
       "      <td>The Broadway Melody (1929)</td>\n",
       "    </tr>\n",
       "    <tr>\n",
       "      <th>3</th>\n",
       "      <td>42nd Street</td>\n",
       "      <td>1933-08-29</td>\n",
       "      <td>Black and White</td>\n",
       "      <td>Comedy</td>\n",
       "      <td>English</td>\n",
       "      <td>USA</td>\n",
       "      <td>Unrated</td>\n",
       "      <td>Ginger Rogers</td>\n",
       "      <td>Lloyd Bacon</td>\n",
       "      <td>610.0</td>\n",
       "      <td>995</td>\n",
       "      <td>24</td>\n",
       "      <td>439</td>\n",
       "      <td>7.7</td>\n",
       "      <td>65.0</td>\n",
       "      <td>89.0</td>\n",
       "      <td>2300000</td>\n",
       "      <td>439000</td>\n",
       "      <td>1933</td>\n",
       "      <td>42nd Street (1933)</td>\n",
       "    </tr>\n",
       "    <tr>\n",
       "      <th>4</th>\n",
       "      <td>Top Hat</td>\n",
       "      <td>1935-04-15</td>\n",
       "      <td>Black and White</td>\n",
       "      <td>Comedy</td>\n",
       "      <td>English</td>\n",
       "      <td>USA</td>\n",
       "      <td>Approved</td>\n",
       "      <td>Ginger Rogers</td>\n",
       "      <td>Mark Sandrich</td>\n",
       "      <td>610.0</td>\n",
       "      <td>824</td>\n",
       "      <td>10</td>\n",
       "      <td>1000</td>\n",
       "      <td>7.8</td>\n",
       "      <td>66.0</td>\n",
       "      <td>81.0</td>\n",
       "      <td>3000000</td>\n",
       "      <td>609000</td>\n",
       "      <td>1935</td>\n",
       "      <td>Top Hat (1935)</td>\n",
       "    </tr>\n",
       "  </tbody>\n",
       "</table>\n",
       "</div>"
      ],
      "text/plain": [
       "                            Title Release Date        Color/B&W    Genre  \\\n",
       "0  Over the Hill to the Poorhouse   1920-09-15  Black and White    Crime   \n",
       "1                      Metropolis   1927-01-26  Black and White    Drama   \n",
       "2             The Broadway Melody   1929-11-11  Black and White  Musical   \n",
       "3                     42nd Street   1933-08-29  Black and White   Comedy   \n",
       "4                         Top Hat   1935-04-15  Black and White   Comedy   \n",
       "\n",
       "  Language  Country     Rating     Lead Actor      Director Name  \\\n",
       "0  English      USA  Not Rated   Stephen Carr  Harry F. Millarde   \n",
       "1   German  Germany  Not Rated  Brigitte Helm         Fritz Lang   \n",
       "2  English      USA     Passed     Anita Page     Harry Beaumont   \n",
       "3  English      USA    Unrated  Ginger Rogers        Lloyd Bacon   \n",
       "4  English      USA   Approved  Ginger Rogers      Mark Sandrich   \n",
       "\n",
       "   Lead Actor FB Likes  Cast FB Likes  Director FB Likes  Movie FB Likes  \\\n",
       "0                  2.0              4                  0               0   \n",
       "1                136.0            203                756           12000   \n",
       "2                 77.0            109                  4             167   \n",
       "3                610.0            995                 24             439   \n",
       "4                610.0            824                 10            1000   \n",
       "\n",
       "   IMDb Score (1-10)  Total Reviews  Duration (min)  Gross Revenue   Budget  \\\n",
       "0                4.8            1.0           110.0        3000000   100000   \n",
       "1                8.3          260.0           145.0          26435  6000000   \n",
       "2                6.3           36.0           100.0        2808000   379000   \n",
       "3                7.7           65.0            89.0        2300000   439000   \n",
       "4                7.8           66.0            81.0        3000000   609000   \n",
       "\n",
       "   year                             Title_year  \n",
       "0  1920  Over the Hill to the Poorhouse (1920)  \n",
       "1  1927                      Metropolis (1927)  \n",
       "2  1929             The Broadway Melody (1929)  \n",
       "3  1933                     42nd Street (1933)  \n",
       "4  1935                         Top Hat (1935)  "
      ]
     },
     "execution_count": 1,
     "metadata": {},
     "output_type": "execute_result"
    }
   ],
   "source": [
    "import requests\n",
    "import json\n",
    "import pandas as pd\n",
    "\n",
    "file_path = '../data/xlsx_data/movies_excel.xlsx'\n",
    "excel_df = pd.read_excel(file_path, sheet_name='Sheet1')  # Specify the sheet name or index\n",
    "\n",
    "print(len(excel_df))\n",
    "excel_df['year'] = excel_df['Release Date'].dt.year.astype(int)\n",
    "excel_df['Title_year'] = excel_df['Title'] + ' (' + excel_df['year'].astype(str) + ')'\n",
    "excel_df.head()\n"
   ]
  },
  {
   "attachments": {},
   "cell_type": "markdown",
   "metadata": {},
   "source": [
    "Next, we import the csv file with 1000 data points and do some data manipulation similar to the one above."
   ]
  },
  {
   "cell_type": "code",
   "execution_count": 2,
   "metadata": {},
   "outputs": [
    {
     "name": "stdout",
     "output_type": "stream",
     "text": [
      "1000\n",
      "Index(['Poster_Link', 'Title', 'Released_Year', 'Certificate', 'Runtime',\n",
      "       'Genre', 'IMDB_Rating', 'Overview', 'Meta_score', 'Director', 'Star1',\n",
      "       'Star2', 'Star3', 'Star4', 'No_of_Votes', 'Gross', 'Title_year'],\n",
      "      dtype='object')\n"
     ]
    }
   ],
   "source": [
    "csv_df = pd.read_csv(\"../data/csv_data/imdb_top_1000.csv\")\n",
    "print(len(csv_df))\n",
    "csv_df.rename(columns={'Series_Title': 'Title'}, inplace=True)\n",
    "csv_df['Title_year'] = csv_df['Title'] + ' (' + csv_df['Released_Year'].astype(str) + ')'\n",
    "print(csv_df.columns)"
   ]
  },
  {
   "attachments": {},
   "cell_type": "markdown",
   "metadata": {},
   "source": [
    "Here we merge the data from the excel and the csv using the new column, **Title_year**"
   ]
  },
  {
   "cell_type": "code",
   "execution_count": 3,
   "metadata": {},
   "outputs": [
    {
     "name": "stdout",
     "output_type": "stream",
     "text": [
      "Index(['Title_x', 'Release Date', 'Color/B&W', 'Genre_x', 'Language',\n",
      "       'Country', 'Rating', 'Lead Actor', 'Director Name',\n",
      "       'Lead Actor FB Likes', 'Cast FB Likes', 'Director FB Likes',\n",
      "       'Movie FB Likes', 'IMDb Score (1-10)', 'Total Reviews',\n",
      "       'Duration (min)', 'Gross Revenue', 'Budget', 'year', 'Title_year',\n",
      "       'Poster_Link', 'Title_y', 'Released_Year', 'Certificate', 'Runtime',\n",
      "       'Genre_y', 'IMDB_Rating', 'Overview', 'Meta_score', 'Director', 'Star1',\n",
      "       'Star2', 'Star3', 'Star4', 'No_of_Votes', 'Gross'],\n",
      "      dtype='object')\n",
      "4353\n"
     ]
    }
   ],
   "source": [
    "merged_df = pd.merge(excel_df, csv_df, on='Title_year', how='outer')\n",
    "print(merged_df.columns)\n",
    "print(len(merged_df))\n",
    "merged_df['Combined_Title'] = merged_df['Title_x'].combine_first(merged_df['Title_y'])"
   ]
  },
  {
   "attachments": {},
   "cell_type": "markdown",
   "metadata": {},
   "source": [
    "Now we use 500 randomly sampled titles from the combined data to call the OMDB API to get more information about the movies in the form of a json file. We then save this json file in our data folder. **This code is only executed once as the information gathered has already been stored.**"
   ]
  },
  {
   "cell_type": "code",
   "execution_count": 4,
   "metadata": {},
   "outputs": [],
   "source": [
    "\n",
    "# # Your API key and base URL\n",
    "# api_key = '8501dc49'\n",
    "# base_url = 'http://www.omdbapi.com/'\n",
    "\n",
    "# # List of movie titles to search\n",
    "# movie_titles = merged_df['Combined_Title'].sample(n=500, random_state=1).to_list()\n",
    "\n",
    "# # Container to hold all results\n",
    "# all_movies = []\n",
    "\n",
    "# # Loop through each movie title\n",
    "# for title in movie_titles:\n",
    "    \n",
    "#     # Query parameters\n",
    "#     params = {\n",
    "#         'apikey': api_key,\n",
    "#         't': title\n",
    "#     }\n",
    "\n",
    "#     # Make the request\n",
    "#     url = requests.Request('GET', base_url, params=params).prepare().url\n",
    "#     response = requests.get(url)\n",
    "\n",
    "#     # Check if the request was successful\n",
    "#     if response.status_code == 200:\n",
    "#         data = response.json()\n",
    "#         if data['Response'] == 'True':\n",
    "#             all_movies.append(data)\n",
    "#         else: print(title + \"not found\")\n",
    "\n",
    "#     else:\n",
    "#         print(f\"Error: Unable to retrieve data for {title}\")\n",
    "\n",
    "# # Save to a JSON file\n",
    "# with open('../data/json_data/omdb_movies.json', 'w') as json_file:\n",
    "#     json.dump(all_movies, json_file, indent=4)\n",
    "\n",
    "# print(f\"Successfully saved {len(all_movies)} records to omdb_movies.json\")\n"
   ]
  },
  {
   "attachments": {},
   "cell_type": "markdown",
   "metadata": {},
   "source": [
    "Next, we import the saved json file and do the same data manipulation as that of the excel and csv so that we can finally merge all the data into one excel file."
   ]
  },
  {
   "cell_type": "code",
   "execution_count": 5,
   "metadata": {},
   "outputs": [
    {
     "name": "stdout",
     "output_type": "stream",
     "text": [
      "238\n"
     ]
    }
   ],
   "source": [
    "with open('../data/json_data/omdb_movies.json', 'r') as file:\n",
    "    data = json.load(file)\n",
    "json_df = pd.json_normalize(data)\n",
    "\n",
    "\n",
    "print(len(json_df))\n",
    "json_df.rename(columns={'title': 'Title'}, inplace=True)\n",
    "json_df['Title_year'] = json_df['Title'] + ' (' + json_df['Year'].astype(str) + ')'"
   ]
  },
  {
   "cell_type": "code",
   "execution_count": 6,
   "metadata": {},
   "outputs": [],
   "source": [
    "merged_df = pd.merge(merged_df, json_df, on='Title_year', how='outer')\n",
    "merged_df.to_excel('../data/output/merged.xlsx', index=False)"
   ]
  }
 ],
 "metadata": {
  "kernelspec": {
   "display_name": "base",
   "language": "python",
   "name": "python3"
  },
  "language_info": {
   "codemirror_mode": {
    "name": "ipython",
    "version": 3
   },
   "file_extension": ".py",
   "mimetype": "text/x-python",
   "name": "python",
   "nbconvert_exporter": "python",
   "pygments_lexer": "ipython3",
   "version": "3.10.8"
  },
  "orig_nbformat": 4
 },
 "nbformat": 4,
 "nbformat_minor": 2
}
